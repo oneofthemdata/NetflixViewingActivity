{
 "cells": [
  {
   "cell_type": "markdown",
   "metadata": {},
   "source": [
    "## **<div style=\"text-align: center\"> Analyzing & Visualizing of Netflix Viewing History </div>**"
   ]
  },
  {
   "cell_type": "markdown",
   "metadata": {},
   "source": [
    "### Reading data"
   ]
  },
  {
   "cell_type": "code",
   "execution_count": 1,
   "metadata": {},
   "outputs": [
    {
     "name": "stdout",
     "output_type": "stream",
     "text": [
      "Data read into a dataframe!\n"
     ]
    }
   ],
   "source": [
    "import pandas as pd\n",
    "import matplotlib as mpl\n",
    "import matplotlib.pyplot as plt\n",
    "import numpy as np\n",
    "import random\n",
    "import seaborn as sns\n",
    "print(\"All necessary packages are imported!\")"
   ]
  },
  {
   "cell_type": "code",
   "execution_count": 2,
   "metadata": {},
   "outputs": [
    {
     "data": {
      "text/html": [
       "<div>\n",
       "<style scoped>\n",
       "    .dataframe tbody tr th:only-of-type {\n",
       "        vertical-align: middle;\n",
       "    }\n",
       "\n",
       "    .dataframe tbody tr th {\n",
       "        vertical-align: top;\n",
       "    }\n",
       "\n",
       "    .dataframe thead th {\n",
       "        text-align: right;\n",
       "    }\n",
       "</style>\n",
       "<table border=\"1\" class=\"dataframe\">\n",
       "  <thead>\n",
       "    <tr style=\"text-align: right;\">\n",
       "      <th></th>\n",
       "      <th>Profile Name</th>\n",
       "      <th>Start Time</th>\n",
       "      <th>Duration</th>\n",
       "      <th>Attributes</th>\n",
       "      <th>Title</th>\n",
       "      <th>Supplemental Video Type</th>\n",
       "      <th>Device Type</th>\n",
       "      <th>Bookmark</th>\n",
       "      <th>Latest Bookmark</th>\n",
       "      <th>Country</th>\n",
       "    </tr>\n",
       "  </thead>\n",
       "  <tbody>\n",
       "    <tr>\n",
       "      <th>0</th>\n",
       "      <td>Cansu</td>\n",
       "      <td>2021-01-13 16:03:20</td>\n",
       "      <td>00:23:31</td>\n",
       "      <td>Autoplayed: user action: Unspecified;</td>\n",
       "      <td>Prestij</td>\n",
       "      <td>NaN</td>\n",
       "      <td>Samsung CE 2019 Muse-M UHD TV Smart TV</td>\n",
       "      <td>00:23:25</td>\n",
       "      <td>00:23:25</td>\n",
       "      <td>TR (Turkey)</td>\n",
       "    </tr>\n",
       "    <tr>\n",
       "      <th>1</th>\n",
       "      <td>Cansu</td>\n",
       "      <td>2021-01-13 16:01:49</td>\n",
       "      <td>00:00:06</td>\n",
       "      <td>Autoplayed: user action: None;</td>\n",
       "      <td>Wonder Woman_hook_primary_16x9</td>\n",
       "      <td>HOOK</td>\n",
       "      <td>Samsung CE 2019 Muse-M UHD TV Smart TV</td>\n",
       "      <td>00:00:06</td>\n",
       "      <td>00:00:06</td>\n",
       "      <td>TR (Turkey)</td>\n",
       "    </tr>\n",
       "    <tr>\n",
       "      <th>2</th>\n",
       "      <td>Cansu</td>\n",
       "      <td>2021-01-13 16:01:31</td>\n",
       "      <td>00:00:08</td>\n",
       "      <td>Autoplayed: user action: None;</td>\n",
       "      <td>The Shawshank Redemption_hook_primary_16x9</td>\n",
       "      <td>HOOK</td>\n",
       "      <td>Samsung CE 2019 Muse-M UHD TV Smart TV</td>\n",
       "      <td>00:00:08</td>\n",
       "      <td>00:00:08</td>\n",
       "      <td>TR (Turkey)</td>\n",
       "    </tr>\n",
       "    <tr>\n",
       "      <th>3</th>\n",
       "      <td>Cansu</td>\n",
       "      <td>2021-01-13 16:01:17</td>\n",
       "      <td>00:00:04</td>\n",
       "      <td>Autoplayed: user action: None;</td>\n",
       "      <td>The Truman Show_hook_primary_16x9</td>\n",
       "      <td>HOOK</td>\n",
       "      <td>Samsung CE 2019 Muse-M UHD TV Smart TV</td>\n",
       "      <td>00:00:04</td>\n",
       "      <td>00:00:04</td>\n",
       "      <td>TR (Turkey)</td>\n",
       "    </tr>\n",
       "    <tr>\n",
       "      <th>4</th>\n",
       "      <td>Cansu</td>\n",
       "      <td>2021-01-13 16:00:30</td>\n",
       "      <td>00:00:04</td>\n",
       "      <td>Autoplayed: user action: None;</td>\n",
       "      <td>Lucifer: Season 2_hook_primary_16x9</td>\n",
       "      <td>HOOK</td>\n",
       "      <td>Samsung CE 2019 Muse-M UHD TV Smart TV</td>\n",
       "      <td>00:00:04</td>\n",
       "      <td>00:00:04</td>\n",
       "      <td>TR (Turkey)</td>\n",
       "    </tr>\n",
       "  </tbody>\n",
       "</table>\n",
       "</div>"
      ],
      "text/plain": [
       "  Profile Name           Start Time  Duration  \\\n",
       "0        Cansu  2021-01-13 16:03:20  00:23:31   \n",
       "1        Cansu  2021-01-13 16:01:49  00:00:06   \n",
       "2        Cansu  2021-01-13 16:01:31  00:00:08   \n",
       "3        Cansu  2021-01-13 16:01:17  00:00:04   \n",
       "4        Cansu  2021-01-13 16:00:30  00:00:04   \n",
       "\n",
       "                               Attributes  \\\n",
       "0  Autoplayed: user action: Unspecified;    \n",
       "1         Autoplayed: user action: None;    \n",
       "2         Autoplayed: user action: None;    \n",
       "3         Autoplayed: user action: None;    \n",
       "4         Autoplayed: user action: None;    \n",
       "\n",
       "                                        Title Supplemental Video Type  \\\n",
       "0                                     Prestij                     NaN   \n",
       "1              Wonder Woman_hook_primary_16x9                    HOOK   \n",
       "2  The Shawshank Redemption_hook_primary_16x9                    HOOK   \n",
       "3           The Truman Show_hook_primary_16x9                    HOOK   \n",
       "4         Lucifer: Season 2_hook_primary_16x9                    HOOK   \n",
       "\n",
       "                              Device Type  Bookmark Latest Bookmark  \\\n",
       "0  Samsung CE 2019 Muse-M UHD TV Smart TV  00:23:25        00:23:25   \n",
       "1  Samsung CE 2019 Muse-M UHD TV Smart TV  00:00:06        00:00:06   \n",
       "2  Samsung CE 2019 Muse-M UHD TV Smart TV  00:00:08        00:00:08   \n",
       "3  Samsung CE 2019 Muse-M UHD TV Smart TV  00:00:04        00:00:04   \n",
       "4  Samsung CE 2019 Muse-M UHD TV Smart TV  00:00:04        00:00:04   \n",
       "\n",
       "       Country  \n",
       "0  TR (Turkey)  \n",
       "1  TR (Turkey)  \n",
       "2  TR (Turkey)  \n",
       "3  TR (Turkey)  \n",
       "4  TR (Turkey)  "
      ]
     },
     "execution_count": 2,
     "metadata": {},
     "output_type": "execute_result"
    }
   ],
   "source": [
    "netflix_history = pd.read_csv('ViewingActivity.csv')\n",
    "netflix_history.head()"
   ]
  },
  {
   "cell_type": "code",
   "execution_count": 3,
   "metadata": {},
   "outputs": [
    {
     "data": {
      "text/plain": [
       "(13373, 10)"
      ]
     },
     "execution_count": 3,
     "metadata": {},
     "output_type": "execute_result"
    }
   ],
   "source": [
    "netflix_history.shape"
   ]
  },
  {
   "cell_type": "code",
   "execution_count": 4,
   "metadata": {},
   "outputs": [
    {
     "data": {
      "text/plain": [
       "array(['Cansu', 'ABD Şube', 'alper', 'Avcılar Şube', 'Çocuk'],\n",
       "      dtype=object)"
      ]
     },
     "execution_count": 4,
     "metadata": {},
     "output_type": "execute_result"
    }
   ],
   "source": [
    "netflix_history['Profile Name'].unique()"
   ]
  },
  {
   "cell_type": "markdown",
   "metadata": {},
   "source": [
    "Data we have here, has 13373 rows and 10 columns that includes all family family members usage, since this is a family package account. There are 5 family members listed in 'Profile Name' column-There are Turkish names- My profile is under 'ABD Şube', therefore we will work on the data only on those rows. So, let's get only data related to my usage."
   ]
  },
  {
   "cell_type": "code",
   "execution_count": 5,
   "metadata": {},
   "outputs": [
    {
     "data": {
      "text/html": [
       "<div>\n",
       "<style scoped>\n",
       "    .dataframe tbody tr th:only-of-type {\n",
       "        vertical-align: middle;\n",
       "    }\n",
       "\n",
       "    .dataframe tbody tr th {\n",
       "        vertical-align: top;\n",
       "    }\n",
       "\n",
       "    .dataframe thead th {\n",
       "        text-align: right;\n",
       "    }\n",
       "</style>\n",
       "<table border=\"1\" class=\"dataframe\">\n",
       "  <thead>\n",
       "    <tr style=\"text-align: right;\">\n",
       "      <th></th>\n",
       "      <th>Profile Name</th>\n",
       "      <th>Start Time</th>\n",
       "      <th>Duration</th>\n",
       "      <th>Attributes</th>\n",
       "      <th>Title</th>\n",
       "      <th>Supplemental Video Type</th>\n",
       "      <th>Device Type</th>\n",
       "      <th>Bookmark</th>\n",
       "      <th>Latest Bookmark</th>\n",
       "      <th>Country</th>\n",
       "    </tr>\n",
       "  </thead>\n",
       "  <tbody>\n",
       "    <tr>\n",
       "      <th>5</th>\n",
       "      <td>ABD Şube</td>\n",
       "      <td>2021-01-13 05:41:40</td>\n",
       "      <td>00:00:05</td>\n",
       "      <td>Autoplayed: user action: None;</td>\n",
       "      <td>L.A.’s Finest: LA's Finest: Season 1_hook_01_16x9</td>\n",
       "      <td>HOOK</td>\n",
       "      <td>Apple iPhone XS</td>\n",
       "      <td>00:00:05</td>\n",
       "      <td>00:00:05</td>\n",
       "      <td>US (United States)</td>\n",
       "    </tr>\n",
       "    <tr>\n",
       "      <th>14</th>\n",
       "      <td>ABD Şube</td>\n",
       "      <td>2021-01-10 19:21:05</td>\n",
       "      <td>00:00:04</td>\n",
       "      <td>Autoplayed: user action: None;</td>\n",
       "      <td>Ninja Assassin_hook_primary_16x9</td>\n",
       "      <td>HOOK</td>\n",
       "      <td>Apple iPhone XS</td>\n",
       "      <td>00:00:04</td>\n",
       "      <td>00:00:04</td>\n",
       "      <td>US (United States)</td>\n",
       "    </tr>\n",
       "    <tr>\n",
       "      <th>54</th>\n",
       "      <td>ABD Şube</td>\n",
       "      <td>2021-01-08 07:11:23</td>\n",
       "      <td>00:00:17</td>\n",
       "      <td>Autoplayed: user action: None;</td>\n",
       "      <td>Catch Me If You Can_hook_primary_16x9</td>\n",
       "      <td>HOOK</td>\n",
       "      <td>Samsung 2017 Kant-M UHD TV Smart TV</td>\n",
       "      <td>00:00:17</td>\n",
       "      <td>00:00:17</td>\n",
       "      <td>US (United States)</td>\n",
       "    </tr>\n",
       "    <tr>\n",
       "      <th>55</th>\n",
       "      <td>ABD Şube</td>\n",
       "      <td>2021-01-08 06:10:16</td>\n",
       "      <td>01:01:03</td>\n",
       "      <td>Autoplayed: user action: Unspecified;</td>\n",
       "      <td>Köstebek</td>\n",
       "      <td>NaN</td>\n",
       "      <td>Samsung 2017 Kant-M UHD TV Smart TV</td>\n",
       "      <td>02:25:08</td>\n",
       "      <td>02:25:08</td>\n",
       "      <td>US (United States)</td>\n",
       "    </tr>\n",
       "    <tr>\n",
       "      <th>56</th>\n",
       "      <td>ABD Şube</td>\n",
       "      <td>2021-01-08 06:10:08</td>\n",
       "      <td>00:00:02</td>\n",
       "      <td>Autoplayed: user action: None;</td>\n",
       "      <td>Criminal Minds: 1. Sezon: Won't Get Fooled Aga...</td>\n",
       "      <td>NaN</td>\n",
       "      <td>Samsung 2017 Kant-M UHD TV Smart TV</td>\n",
       "      <td>00:00:02</td>\n",
       "      <td>00:00:02</td>\n",
       "      <td>US (United States)</td>\n",
       "    </tr>\n",
       "  </tbody>\n",
       "</table>\n",
       "</div>"
      ],
      "text/plain": [
       "   Profile Name           Start Time  Duration  \\\n",
       "5      ABD Şube  2021-01-13 05:41:40  00:00:05   \n",
       "14     ABD Şube  2021-01-10 19:21:05  00:00:04   \n",
       "54     ABD Şube  2021-01-08 07:11:23  00:00:17   \n",
       "55     ABD Şube  2021-01-08 06:10:16  01:01:03   \n",
       "56     ABD Şube  2021-01-08 06:10:08  00:00:02   \n",
       "\n",
       "                                Attributes  \\\n",
       "5          Autoplayed: user action: None;    \n",
       "14         Autoplayed: user action: None;    \n",
       "54         Autoplayed: user action: None;    \n",
       "55  Autoplayed: user action: Unspecified;    \n",
       "56         Autoplayed: user action: None;    \n",
       "\n",
       "                                                Title Supplemental Video Type  \\\n",
       "5   L.A.’s Finest: LA's Finest: Season 1_hook_01_16x9                    HOOK   \n",
       "14                   Ninja Assassin_hook_primary_16x9                    HOOK   \n",
       "54              Catch Me If You Can_hook_primary_16x9                    HOOK   \n",
       "55                                           Köstebek                     NaN   \n",
       "56  Criminal Minds: 1. Sezon: Won't Get Fooled Aga...                     NaN   \n",
       "\n",
       "                            Device Type  Bookmark Latest Bookmark  \\\n",
       "5                       Apple iPhone XS  00:00:05        00:00:05   \n",
       "14                      Apple iPhone XS  00:00:04        00:00:04   \n",
       "54  Samsung 2017 Kant-M UHD TV Smart TV  00:00:17        00:00:17   \n",
       "55  Samsung 2017 Kant-M UHD TV Smart TV  02:25:08        02:25:08   \n",
       "56  Samsung 2017 Kant-M UHD TV Smart TV  00:00:02        00:00:02   \n",
       "\n",
       "               Country  \n",
       "5   US (United States)  \n",
       "14  US (United States)  \n",
       "54  US (United States)  \n",
       "55  US (United States)  \n",
       "56  US (United States)  "
      ]
     },
     "execution_count": 5,
     "metadata": {},
     "output_type": "execute_result"
    }
   ],
   "source": [
    "df = netflix_history[netflix_history['Profile Name'] == 'ABD Şube']\n",
    "df.head()"
   ]
  },
  {
   "cell_type": "markdown",
   "metadata": {},
   "source": [
    "`HOOK` values under 'Supplemental Video Type' column are preview watch types. Netflix show these previews automatically on main screen, and this data is also counted as watch time.\n",
    "NaN values on this column are the ones we played to watch. So, let's drop those HOOK values.<br>\n",
    "After that, we will reset indexes using `RangeIndex()` function since it's faster than `reset_index()` function."
   ]
  },
  {
   "cell_type": "code",
   "execution_count": 6,
   "metadata": {},
   "outputs": [
    {
     "data": {
      "text/html": [
       "<div>\n",
       "<style scoped>\n",
       "    .dataframe tbody tr th:only-of-type {\n",
       "        vertical-align: middle;\n",
       "    }\n",
       "\n",
       "    .dataframe tbody tr th {\n",
       "        vertical-align: top;\n",
       "    }\n",
       "\n",
       "    .dataframe thead th {\n",
       "        text-align: right;\n",
       "    }\n",
       "</style>\n",
       "<table border=\"1\" class=\"dataframe\">\n",
       "  <thead>\n",
       "    <tr style=\"text-align: right;\">\n",
       "      <th></th>\n",
       "      <th>Profile Name</th>\n",
       "      <th>Start Time</th>\n",
       "      <th>Duration</th>\n",
       "      <th>Attributes</th>\n",
       "      <th>Title</th>\n",
       "      <th>Supplemental Video Type</th>\n",
       "      <th>Device Type</th>\n",
       "      <th>Bookmark</th>\n",
       "      <th>Latest Bookmark</th>\n",
       "      <th>Country</th>\n",
       "    </tr>\n",
       "  </thead>\n",
       "  <tbody>\n",
       "    <tr>\n",
       "      <th>0</th>\n",
       "      <td>ABD Şube</td>\n",
       "      <td>2021-01-08 06:10:16</td>\n",
       "      <td>01:01:03</td>\n",
       "      <td>Autoplayed: user action: Unspecified;</td>\n",
       "      <td>Köstebek</td>\n",
       "      <td>NaN</td>\n",
       "      <td>Samsung 2017 Kant-M UHD TV Smart TV</td>\n",
       "      <td>02:25:08</td>\n",
       "      <td>02:25:08</td>\n",
       "      <td>US (United States)</td>\n",
       "    </tr>\n",
       "    <tr>\n",
       "      <th>1</th>\n",
       "      <td>ABD Şube</td>\n",
       "      <td>2021-01-08 06:10:08</td>\n",
       "      <td>00:00:02</td>\n",
       "      <td>Autoplayed: user action: None;</td>\n",
       "      <td>Criminal Minds: 1. Sezon: Won't Get Fooled Aga...</td>\n",
       "      <td>NaN</td>\n",
       "      <td>Samsung 2017 Kant-M UHD TV Smart TV</td>\n",
       "      <td>00:00:02</td>\n",
       "      <td>00:00:02</td>\n",
       "      <td>US (United States)</td>\n",
       "    </tr>\n",
       "    <tr>\n",
       "      <th>2</th>\n",
       "      <td>ABD Şube</td>\n",
       "      <td>2021-01-08 06:09:10</td>\n",
       "      <td>00:00:18</td>\n",
       "      <td>NaN</td>\n",
       "      <td>Criminal Minds: 1. Sezon: Compulsion (Bölüm 2)</td>\n",
       "      <td>NaN</td>\n",
       "      <td>Samsung 2017 Kant-M UHD TV Smart TV</td>\n",
       "      <td>00:43:57</td>\n",
       "      <td>00:43:57</td>\n",
       "      <td>US (United States)</td>\n",
       "    </tr>\n",
       "    <tr>\n",
       "      <th>3</th>\n",
       "      <td>ABD Şube</td>\n",
       "      <td>2021-01-08 06:08:56</td>\n",
       "      <td>00:00:01</td>\n",
       "      <td>Autoplayed: user action: None;</td>\n",
       "      <td>Criminal Minds: 1. Sezon: Extreme Aggressor (B...</td>\n",
       "      <td>NaN</td>\n",
       "      <td>Samsung 2017 Kant-M UHD TV Smart TV</td>\n",
       "      <td>00:00:01</td>\n",
       "      <td>00:00:01</td>\n",
       "      <td>US (United States)</td>\n",
       "    </tr>\n",
       "    <tr>\n",
       "      <th>4</th>\n",
       "      <td>ABD Şube</td>\n",
       "      <td>2021-01-08 06:08:49</td>\n",
       "      <td>00:00:03</td>\n",
       "      <td>Autoplayed: user action: None;</td>\n",
       "      <td>Criminal Minds: 1. Sezon: Extreme Aggressor (B...</td>\n",
       "      <td>NaN</td>\n",
       "      <td>Samsung 2017 Kant-M UHD TV Smart TV</td>\n",
       "      <td>00:00:03</td>\n",
       "      <td>Not latest view</td>\n",
       "      <td>US (United States)</td>\n",
       "    </tr>\n",
       "  </tbody>\n",
       "</table>\n",
       "</div>"
      ],
      "text/plain": [
       "  Profile Name           Start Time  Duration  \\\n",
       "0     ABD Şube  2021-01-08 06:10:16  01:01:03   \n",
       "1     ABD Şube  2021-01-08 06:10:08  00:00:02   \n",
       "2     ABD Şube  2021-01-08 06:09:10  00:00:18   \n",
       "3     ABD Şube  2021-01-08 06:08:56  00:00:01   \n",
       "4     ABD Şube  2021-01-08 06:08:49  00:00:03   \n",
       "\n",
       "                               Attributes  \\\n",
       "0  Autoplayed: user action: Unspecified;    \n",
       "1         Autoplayed: user action: None;    \n",
       "2                                     NaN   \n",
       "3         Autoplayed: user action: None;    \n",
       "4         Autoplayed: user action: None;    \n",
       "\n",
       "                                               Title Supplemental Video Type  \\\n",
       "0                                           Köstebek                     NaN   \n",
       "1  Criminal Minds: 1. Sezon: Won't Get Fooled Aga...                     NaN   \n",
       "2     Criminal Minds: 1. Sezon: Compulsion (Bölüm 2)                     NaN   \n",
       "3  Criminal Minds: 1. Sezon: Extreme Aggressor (B...                     NaN   \n",
       "4  Criminal Minds: 1. Sezon: Extreme Aggressor (B...                     NaN   \n",
       "\n",
       "                           Device Type  Bookmark  Latest Bookmark  \\\n",
       "0  Samsung 2017 Kant-M UHD TV Smart TV  02:25:08         02:25:08   \n",
       "1  Samsung 2017 Kant-M UHD TV Smart TV  00:00:02         00:00:02   \n",
       "2  Samsung 2017 Kant-M UHD TV Smart TV  00:43:57         00:43:57   \n",
       "3  Samsung 2017 Kant-M UHD TV Smart TV  00:00:01         00:00:01   \n",
       "4  Samsung 2017 Kant-M UHD TV Smart TV  00:00:03  Not latest view   \n",
       "\n",
       "              Country  \n",
       "0  US (United States)  \n",
       "1  US (United States)  \n",
       "2  US (United States)  \n",
       "3  US (United States)  \n",
       "4  US (United States)  "
      ]
     },
     "execution_count": 6,
     "metadata": {},
     "output_type": "execute_result"
    }
   ],
   "source": [
    "df = df.drop(df[df['Supplemental Video Type'] == 'HOOK'].index)\n",
    "df.index = pd.RangeIndex(len(df.index)) # Resetting index numbers after selected rows\n",
    "df.head()"
   ]
  },
  {
   "cell_type": "markdown",
   "metadata": {},
   "source": [
    "There are some columns we won't need to use. Let's drop them off by using `drop()` function."
   ]
  },
  {
   "cell_type": "code",
   "execution_count": 7,
   "metadata": {},
   "outputs": [
    {
     "name": "stdout",
     "output_type": "stream",
     "text": [
      "(3483, 3)\n"
     ]
    },
    {
     "data": {
      "text/html": [
       "<div>\n",
       "<style scoped>\n",
       "    .dataframe tbody tr th:only-of-type {\n",
       "        vertical-align: middle;\n",
       "    }\n",
       "\n",
       "    .dataframe tbody tr th {\n",
       "        vertical-align: top;\n",
       "    }\n",
       "\n",
       "    .dataframe thead th {\n",
       "        text-align: right;\n",
       "    }\n",
       "</style>\n",
       "<table border=\"1\" class=\"dataframe\">\n",
       "  <thead>\n",
       "    <tr style=\"text-align: right;\">\n",
       "      <th></th>\n",
       "      <th>Start Time</th>\n",
       "      <th>Duration</th>\n",
       "      <th>Title</th>\n",
       "    </tr>\n",
       "  </thead>\n",
       "  <tbody>\n",
       "    <tr>\n",
       "      <th>0</th>\n",
       "      <td>2021-01-08 06:10:16</td>\n",
       "      <td>01:01:03</td>\n",
       "      <td>Köstebek</td>\n",
       "    </tr>\n",
       "    <tr>\n",
       "      <th>1</th>\n",
       "      <td>2021-01-08 06:10:08</td>\n",
       "      <td>00:00:02</td>\n",
       "      <td>Criminal Minds: 1. Sezon: Won't Get Fooled Aga...</td>\n",
       "    </tr>\n",
       "    <tr>\n",
       "      <th>2</th>\n",
       "      <td>2021-01-08 06:09:10</td>\n",
       "      <td>00:00:18</td>\n",
       "      <td>Criminal Minds: 1. Sezon: Compulsion (Bölüm 2)</td>\n",
       "    </tr>\n",
       "    <tr>\n",
       "      <th>3</th>\n",
       "      <td>2021-01-08 06:08:56</td>\n",
       "      <td>00:00:01</td>\n",
       "      <td>Criminal Minds: 1. Sezon: Extreme Aggressor (B...</td>\n",
       "    </tr>\n",
       "    <tr>\n",
       "      <th>4</th>\n",
       "      <td>2021-01-08 06:08:49</td>\n",
       "      <td>00:00:03</td>\n",
       "      <td>Criminal Minds: 1. Sezon: Extreme Aggressor (B...</td>\n",
       "    </tr>\n",
       "  </tbody>\n",
       "</table>\n",
       "</div>"
      ],
      "text/plain": [
       "            Start Time  Duration  \\\n",
       "0  2021-01-08 06:10:16  01:01:03   \n",
       "1  2021-01-08 06:10:08  00:00:02   \n",
       "2  2021-01-08 06:09:10  00:00:18   \n",
       "3  2021-01-08 06:08:56  00:00:01   \n",
       "4  2021-01-08 06:08:49  00:00:03   \n",
       "\n",
       "                                               Title  \n",
       "0                                           Köstebek  \n",
       "1  Criminal Minds: 1. Sezon: Won't Get Fooled Aga...  \n",
       "2     Criminal Minds: 1. Sezon: Compulsion (Bölüm 2)  \n",
       "3  Criminal Minds: 1. Sezon: Extreme Aggressor (B...  \n",
       "4  Criminal Minds: 1. Sezon: Extreme Aggressor (B...  "
      ]
     },
     "execution_count": 7,
     "metadata": {},
     "output_type": "execute_result"
    }
   ],
   "source": [
    "df = df.drop(['Profile Name', 'Attributes', 'Supplemental Video Type', 'Device Type', 'Bookmark', 'Latest Bookmark', 'Country'], axis=1)\n",
    "print(df.shape)\n",
    "df.head()"
   ]
  },
  {
   "cell_type": "code",
   "execution_count": 8,
   "metadata": {},
   "outputs": [
    {
     "data": {
      "text/plain": [
       "Start Time    object\n",
       "Duration      object\n",
       "Title         object\n",
       "dtype: object"
      ]
     },
     "execution_count": 8,
     "metadata": {},
     "output_type": "execute_result"
    }
   ],
   "source": [
    "df.dtypes"
   ]
  },
  {
   "cell_type": "markdown",
   "metadata": {},
   "source": [
    "`Start Time` and `Duration` columns stored as a object, which means they are strings. We need to change these two columns into correct datatypes. <br>\n",
    "\n",
    "-    First, we will use `to_datetime()` function to convert values in `Start Time` column\n",
    "-    For `Duration` column, we will use `to_timedelta()` function.\n",
    "-    Lastly, for an accurate data, we can change the time zone in Start time column. Time stored as UTC time zone. We will use `tz_convert()` <br>\n",
    "     function. This function works only on `DatetimeIndex`, therefore we will set `Start Time` column as an index, convert it and then reset  <br> \n",
    "     the index\n"
   ]
  },
  {
   "cell_type": "code",
   "execution_count": 9,
   "metadata": {},
   "outputs": [],
   "source": [
    "df['Start Time'] = pd.to_datetime(df['Start Time'], utc=True)"
   ]
  },
  {
   "cell_type": "code",
   "execution_count": 10,
   "metadata": {},
   "outputs": [],
   "source": [
    "df['Duration'] = pd.to_timedelta(df['Duration'])"
   ]
  },
  {
   "cell_type": "code",
   "execution_count": 11,
   "metadata": {},
   "outputs": [],
   "source": [
    "df = df.set_index('Start Time')\n",
    "df.index = df.index.tz_convert('US/Pacific')\n",
    "df = df.reset_index()"
   ]
  },
  {
   "cell_type": "code",
   "execution_count": 12,
   "metadata": {},
   "outputs": [
    {
     "data": {
      "text/plain": [
       "Start Time    datetime64[ns, US/Pacific]\n",
       "Duration                 timedelta64[ns]\n",
       "Title                             object\n",
       "dtype: object"
      ]
     },
     "execution_count": 12,
     "metadata": {},
     "output_type": "execute_result"
    }
   ],
   "source": [
    "df.dtypes"
   ]
  },
  {
   "cell_type": "markdown",
   "metadata": {},
   "source": [
    "Looks good! Now, since we convert our dataframe to `timedelta` values we can remove some values. There are some previews, trailers or some shows that I've watched a sneak peek. <br>\n",
    "Let's remove rows less than 2 minutes. We will use `total_second()` function for that."
   ]
  },
  {
   "cell_type": "code",
   "execution_count": 13,
   "metadata": {},
   "outputs": [
    {
     "data": {
      "text/plain": [
       "(2441, 3)"
      ]
     },
     "execution_count": 13,
     "metadata": {},
     "output_type": "execute_result"
    }
   ],
   "source": [
    "df = df[df['Duration'].dt.total_seconds() > 120]\n",
    "df.shape"
   ]
  },
  {
   "cell_type": "markdown",
   "metadata": {},
   "source": [
    "For detailed analysis, let's create Year, Month, Day, and Day of the Week columns out of Start Time column. "
   ]
  },
  {
   "cell_type": "code",
   "execution_count": 14,
   "metadata": {},
   "outputs": [
    {
     "data": {
      "text/html": [
       "<div>\n",
       "<style scoped>\n",
       "    .dataframe tbody tr th:only-of-type {\n",
       "        vertical-align: middle;\n",
       "    }\n",
       "\n",
       "    .dataframe tbody tr th {\n",
       "        vertical-align: top;\n",
       "    }\n",
       "\n",
       "    .dataframe thead th {\n",
       "        text-align: right;\n",
       "    }\n",
       "</style>\n",
       "<table border=\"1\" class=\"dataframe\">\n",
       "  <thead>\n",
       "    <tr style=\"text-align: right;\">\n",
       "      <th></th>\n",
       "      <th>Start Time</th>\n",
       "      <th>Duration</th>\n",
       "      <th>Title</th>\n",
       "      <th>Year</th>\n",
       "      <th>Month</th>\n",
       "      <th>Day</th>\n",
       "      <th>Day of the Week</th>\n",
       "    </tr>\n",
       "  </thead>\n",
       "  <tbody>\n",
       "    <tr>\n",
       "      <th>0</th>\n",
       "      <td>2021-01-07 22:10:16-08:00</td>\n",
       "      <td>0 days 01:01:03</td>\n",
       "      <td>Köstebek</td>\n",
       "      <td>2021</td>\n",
       "      <td>Jan</td>\n",
       "      <td>7</td>\n",
       "      <td>Thursday</td>\n",
       "    </tr>\n",
       "    <tr>\n",
       "      <th>6</th>\n",
       "      <td>2021-01-03 11:12:49-08:00</td>\n",
       "      <td>0 days 00:54:03</td>\n",
       "      <td>Köstebek</td>\n",
       "      <td>2021</td>\n",
       "      <td>Jan</td>\n",
       "      <td>3</td>\n",
       "      <td>Sunday</td>\n",
       "    </tr>\n",
       "    <tr>\n",
       "      <th>8</th>\n",
       "      <td>2020-12-28 16:23:08-08:00</td>\n",
       "      <td>0 days 01:27:23</td>\n",
       "      <td>Kayıp Şeylerin Bakım Kılavuzu</td>\n",
       "      <td>2020</td>\n",
       "      <td>Dec</td>\n",
       "      <td>28</td>\n",
       "      <td>Monday</td>\n",
       "    </tr>\n",
       "    <tr>\n",
       "      <th>14</th>\n",
       "      <td>2020-12-28 12:23:35-08:00</td>\n",
       "      <td>0 days 00:07:32</td>\n",
       "      <td>İri Kıyım: Son İnfazcı</td>\n",
       "      <td>2020</td>\n",
       "      <td>Dec</td>\n",
       "      <td>28</td>\n",
       "      <td>Monday</td>\n",
       "    </tr>\n",
       "    <tr>\n",
       "      <th>15</th>\n",
       "      <td>2020-12-28 12:12:13-08:00</td>\n",
       "      <td>0 days 00:09:09</td>\n",
       "      <td>Between Two Ferns: The Movie</td>\n",
       "      <td>2020</td>\n",
       "      <td>Dec</td>\n",
       "      <td>28</td>\n",
       "      <td>Monday</td>\n",
       "    </tr>\n",
       "  </tbody>\n",
       "</table>\n",
       "</div>"
      ],
      "text/plain": [
       "                  Start Time        Duration                          Title  \\\n",
       "0  2021-01-07 22:10:16-08:00 0 days 01:01:03                       Köstebek   \n",
       "6  2021-01-03 11:12:49-08:00 0 days 00:54:03                       Köstebek   \n",
       "8  2020-12-28 16:23:08-08:00 0 days 01:27:23  Kayıp Şeylerin Bakım Kılavuzu   \n",
       "14 2020-12-28 12:23:35-08:00 0 days 00:07:32         İri Kıyım: Son İnfazcı   \n",
       "15 2020-12-28 12:12:13-08:00 0 days 00:09:09   Between Two Ferns: The Movie   \n",
       "\n",
       "    Year Month  Day Day of the Week  \n",
       "0   2021   Jan    7        Thursday  \n",
       "6   2021   Jan    3          Sunday  \n",
       "8   2020   Dec   28          Monday  \n",
       "14  2020   Dec   28          Monday  \n",
       "15  2020   Dec   28          Monday  "
      ]
     },
     "execution_count": 14,
     "metadata": {},
     "output_type": "execute_result"
    }
   ],
   "source": [
    "df['Year'], df['Month'] = df['Start Time'].dt.year, df['Start Time'].dt.month_name().str[:3]\n",
    "df['Day'] = df['Start Time'].dt.day\n",
    "df['Day of the Week'] = df['Start Time'].dt.day_name()\n",
    "df.head()"
   ]
  },
  {
   "cell_type": "markdown",
   "metadata": {},
   "source": [
    "NEtflix listed series and movies in same column. Series' seasons and episodes seperated with `:` punctuation. We will seperated their season and episodes and put them in create `Season` and `Episode` column. We will use `split()` function and pass it three arguments. "
   ]
  },
  {
   "cell_type": "code",
   "execution_count": 15,
   "metadata": {},
   "outputs": [
    {
     "data": {
      "text/html": [
       "<div>\n",
       "<style scoped>\n",
       "    .dataframe tbody tr th:only-of-type {\n",
       "        vertical-align: middle;\n",
       "    }\n",
       "\n",
       "    .dataframe tbody tr th {\n",
       "        vertical-align: top;\n",
       "    }\n",
       "\n",
       "    .dataframe thead th {\n",
       "        text-align: right;\n",
       "    }\n",
       "</style>\n",
       "<table border=\"1\" class=\"dataframe\">\n",
       "  <thead>\n",
       "    <tr style=\"text-align: right;\">\n",
       "      <th></th>\n",
       "      <th>Start Time</th>\n",
       "      <th>Duration</th>\n",
       "      <th>Title</th>\n",
       "      <th>Year</th>\n",
       "      <th>Month</th>\n",
       "      <th>Day</th>\n",
       "      <th>Day of the Week</th>\n",
       "      <th>Show</th>\n",
       "      <th>Season</th>\n",
       "      <th>Episode</th>\n",
       "    </tr>\n",
       "  </thead>\n",
       "  <tbody>\n",
       "    <tr>\n",
       "      <th>0</th>\n",
       "      <td>2021-01-07 22:10:16-08:00</td>\n",
       "      <td>0 days 01:01:03</td>\n",
       "      <td>Köstebek</td>\n",
       "      <td>2021</td>\n",
       "      <td>Jan</td>\n",
       "      <td>7</td>\n",
       "      <td>Thursday</td>\n",
       "      <td>Köstebek</td>\n",
       "      <td>None</td>\n",
       "      <td>None</td>\n",
       "    </tr>\n",
       "    <tr>\n",
       "      <th>6</th>\n",
       "      <td>2021-01-03 11:12:49-08:00</td>\n",
       "      <td>0 days 00:54:03</td>\n",
       "      <td>Köstebek</td>\n",
       "      <td>2021</td>\n",
       "      <td>Jan</td>\n",
       "      <td>3</td>\n",
       "      <td>Sunday</td>\n",
       "      <td>Köstebek</td>\n",
       "      <td>None</td>\n",
       "      <td>None</td>\n",
       "    </tr>\n",
       "    <tr>\n",
       "      <th>8</th>\n",
       "      <td>2020-12-28 16:23:08-08:00</td>\n",
       "      <td>0 days 01:27:23</td>\n",
       "      <td>Kayıp Şeylerin Bakım Kılavuzu</td>\n",
       "      <td>2020</td>\n",
       "      <td>Dec</td>\n",
       "      <td>28</td>\n",
       "      <td>Monday</td>\n",
       "      <td>Kayıp Şeylerin Bakım Kılavuzu</td>\n",
       "      <td>None</td>\n",
       "      <td>None</td>\n",
       "    </tr>\n",
       "    <tr>\n",
       "      <th>14</th>\n",
       "      <td>2020-12-28 12:23:35-08:00</td>\n",
       "      <td>0 days 00:07:32</td>\n",
       "      <td>İri Kıyım: Son İnfazcı</td>\n",
       "      <td>2020</td>\n",
       "      <td>Dec</td>\n",
       "      <td>28</td>\n",
       "      <td>Monday</td>\n",
       "      <td>İri Kıyım</td>\n",
       "      <td>Son İnfazcı</td>\n",
       "      <td>None</td>\n",
       "    </tr>\n",
       "    <tr>\n",
       "      <th>15</th>\n",
       "      <td>2020-12-28 12:12:13-08:00</td>\n",
       "      <td>0 days 00:09:09</td>\n",
       "      <td>Between Two Ferns: The Movie</td>\n",
       "      <td>2020</td>\n",
       "      <td>Dec</td>\n",
       "      <td>28</td>\n",
       "      <td>Monday</td>\n",
       "      <td>Between Two Ferns</td>\n",
       "      <td>The Movie</td>\n",
       "      <td>None</td>\n",
       "    </tr>\n",
       "  </tbody>\n",
       "</table>\n",
       "</div>"
      ],
      "text/plain": [
       "                  Start Time        Duration                          Title  \\\n",
       "0  2021-01-07 22:10:16-08:00 0 days 01:01:03                       Köstebek   \n",
       "6  2021-01-03 11:12:49-08:00 0 days 00:54:03                       Köstebek   \n",
       "8  2020-12-28 16:23:08-08:00 0 days 01:27:23  Kayıp Şeylerin Bakım Kılavuzu   \n",
       "14 2020-12-28 12:23:35-08:00 0 days 00:07:32         İri Kıyım: Son İnfazcı   \n",
       "15 2020-12-28 12:12:13-08:00 0 days 00:09:09   Between Two Ferns: The Movie   \n",
       "\n",
       "    Year Month  Day Day of the Week                           Show  \\\n",
       "0   2021   Jan    7        Thursday                       Köstebek   \n",
       "6   2021   Jan    3          Sunday                       Köstebek   \n",
       "8   2020   Dec   28          Monday  Kayıp Şeylerin Bakım Kılavuzu   \n",
       "14  2020   Dec   28          Monday                      İri Kıyım   \n",
       "15  2020   Dec   28          Monday              Between Two Ferns   \n",
       "\n",
       "          Season Episode  \n",
       "0           None    None  \n",
       "6           None    None  \n",
       "8           None    None  \n",
       "14   Son İnfazcı    None  \n",
       "15     The Movie    None  "
      ]
     },
     "execution_count": 15,
     "metadata": {},
     "output_type": "execute_result"
    }
   ],
   "source": [
    "title_substr = df.Title.str.split(\":\",expand=True,n=2)\n",
    "df['Show'] = title_substr[0]\n",
    "df['Season'] = title_substr[1]\n",
    "df['Episode'] = title_substr[2]\n",
    "df.head()"
   ]
  },
  {
   "cell_type": "markdown",
   "metadata": {},
   "source": [
    "When we split series some movies also appeared in Season column. It's because some movies was subtitled like the movie Lord of the Rings: Two Towes. To determine, if an entry movie or series, we will create Type column and use apply function and pass lambda as its argument. If the Episode column is null we assign the show as a movie."
   ]
  },
  {
   "cell_type": "code",
   "execution_count": 16,
   "metadata": {},
   "outputs": [],
   "source": [
    "df['Type'] = df.apply(lambda x:'Movie' if pd.isnull(x['Episode']) else 'TV Show' , axis=1)\n",
    "df = df.drop('Title', axis = 1)"
   ]
  },
  {
   "cell_type": "markdown",
   "metadata": {},
   "source": [
    "Lastly, let's reorder out columns before we get to analyse it."
   ]
  },
  {
   "cell_type": "code",
   "execution_count": 17,
   "metadata": {},
   "outputs": [
    {
     "data": {
      "text/html": [
       "<div>\n",
       "<style scoped>\n",
       "    .dataframe tbody tr th:only-of-type {\n",
       "        vertical-align: middle;\n",
       "    }\n",
       "\n",
       "    .dataframe tbody tr th {\n",
       "        vertical-align: top;\n",
       "    }\n",
       "\n",
       "    .dataframe thead th {\n",
       "        text-align: right;\n",
       "    }\n",
       "</style>\n",
       "<table border=\"1\" class=\"dataframe\">\n",
       "  <thead>\n",
       "    <tr style=\"text-align: right;\">\n",
       "      <th></th>\n",
       "      <th>Show</th>\n",
       "      <th>Season</th>\n",
       "      <th>Episode</th>\n",
       "      <th>Type</th>\n",
       "      <th>Start Time</th>\n",
       "      <th>Duration</th>\n",
       "      <th>Year</th>\n",
       "      <th>Month</th>\n",
       "      <th>Day</th>\n",
       "      <th>Day of the Week</th>\n",
       "    </tr>\n",
       "  </thead>\n",
       "  <tbody>\n",
       "    <tr>\n",
       "      <th>0</th>\n",
       "      <td>Köstebek</td>\n",
       "      <td>None</td>\n",
       "      <td>None</td>\n",
       "      <td>Movie</td>\n",
       "      <td>2021-01-07 22:10:16-08:00</td>\n",
       "      <td>0 days 01:01:03</td>\n",
       "      <td>2021</td>\n",
       "      <td>Jan</td>\n",
       "      <td>7</td>\n",
       "      <td>Thursday</td>\n",
       "    </tr>\n",
       "    <tr>\n",
       "      <th>6</th>\n",
       "      <td>Köstebek</td>\n",
       "      <td>None</td>\n",
       "      <td>None</td>\n",
       "      <td>Movie</td>\n",
       "      <td>2021-01-03 11:12:49-08:00</td>\n",
       "      <td>0 days 00:54:03</td>\n",
       "      <td>2021</td>\n",
       "      <td>Jan</td>\n",
       "      <td>3</td>\n",
       "      <td>Sunday</td>\n",
       "    </tr>\n",
       "    <tr>\n",
       "      <th>8</th>\n",
       "      <td>Kayıp Şeylerin Bakım Kılavuzu</td>\n",
       "      <td>None</td>\n",
       "      <td>None</td>\n",
       "      <td>Movie</td>\n",
       "      <td>2020-12-28 16:23:08-08:00</td>\n",
       "      <td>0 days 01:27:23</td>\n",
       "      <td>2020</td>\n",
       "      <td>Dec</td>\n",
       "      <td>28</td>\n",
       "      <td>Monday</td>\n",
       "    </tr>\n",
       "    <tr>\n",
       "      <th>14</th>\n",
       "      <td>İri Kıyım</td>\n",
       "      <td>Son İnfazcı</td>\n",
       "      <td>None</td>\n",
       "      <td>Movie</td>\n",
       "      <td>2020-12-28 12:23:35-08:00</td>\n",
       "      <td>0 days 00:07:32</td>\n",
       "      <td>2020</td>\n",
       "      <td>Dec</td>\n",
       "      <td>28</td>\n",
       "      <td>Monday</td>\n",
       "    </tr>\n",
       "    <tr>\n",
       "      <th>15</th>\n",
       "      <td>Between Two Ferns</td>\n",
       "      <td>The Movie</td>\n",
       "      <td>None</td>\n",
       "      <td>Movie</td>\n",
       "      <td>2020-12-28 12:12:13-08:00</td>\n",
       "      <td>0 days 00:09:09</td>\n",
       "      <td>2020</td>\n",
       "      <td>Dec</td>\n",
       "      <td>28</td>\n",
       "      <td>Monday</td>\n",
       "    </tr>\n",
       "  </tbody>\n",
       "</table>\n",
       "</div>"
      ],
      "text/plain": [
       "                             Show        Season Episode   Type  \\\n",
       "0                        Köstebek          None    None  Movie   \n",
       "6                        Köstebek          None    None  Movie   \n",
       "8   Kayıp Şeylerin Bakım Kılavuzu          None    None  Movie   \n",
       "14                      İri Kıyım   Son İnfazcı    None  Movie   \n",
       "15              Between Two Ferns     The Movie    None  Movie   \n",
       "\n",
       "                  Start Time        Duration  Year Month  Day Day of the Week  \n",
       "0  2021-01-07 22:10:16-08:00 0 days 01:01:03  2021   Jan    7        Thursday  \n",
       "6  2021-01-03 11:12:49-08:00 0 days 00:54:03  2021   Jan    3          Sunday  \n",
       "8  2020-12-28 16:23:08-08:00 0 days 01:27:23  2020   Dec   28          Monday  \n",
       "14 2020-12-28 12:23:35-08:00 0 days 00:07:32  2020   Dec   28          Monday  \n",
       "15 2020-12-28 12:12:13-08:00 0 days 00:09:09  2020   Dec   28          Monday  "
      ]
     },
     "execution_count": 17,
     "metadata": {},
     "output_type": "execute_result"
    }
   ],
   "source": [
    "column_titles = ['Show','Season','Episode','Type', 'Start Time', 'Duration', 'Year', 'Month', 'Day', 'Day of the Week']\n",
    "df = df[column_titles]\n",
    "df.head()"
   ]
  },
  {
   "cell_type": "markdown",
   "metadata": {},
   "source": [
    "### Analyzing the Data"
   ]
  },
  {
   "cell_type": "markdown",
   "metadata": {},
   "source": [
    "Let's move into data visualization and exploritory data analysis(EDA).\n",
    "We would like to find out how much time was spended in each show. We will show this for movies and tv show separetly. So, let's make seperate dataframe for tv show and movies."
   ]
  },
  {
   "cell_type": "code",
   "execution_count": 19,
   "metadata": {},
   "outputs": [
    {
     "data": {
      "text/html": [
       "<div>\n",
       "<style scoped>\n",
       "    .dataframe tbody tr th:only-of-type {\n",
       "        vertical-align: middle;\n",
       "    }\n",
       "\n",
       "    .dataframe tbody tr th {\n",
       "        vertical-align: top;\n",
       "    }\n",
       "\n",
       "    .dataframe thead th {\n",
       "        text-align: right;\n",
       "    }\n",
       "</style>\n",
       "<table border=\"1\" class=\"dataframe\">\n",
       "  <thead>\n",
       "    <tr style=\"text-align: right;\">\n",
       "      <th></th>\n",
       "      <th>Show</th>\n",
       "      <th>Season</th>\n",
       "      <th>Episode</th>\n",
       "      <th>Type</th>\n",
       "      <th>Start Time</th>\n",
       "      <th>Duration</th>\n",
       "      <th>Year</th>\n",
       "      <th>Month</th>\n",
       "      <th>Day</th>\n",
       "      <th>Day of the Week</th>\n",
       "    </tr>\n",
       "  </thead>\n",
       "  <tbody>\n",
       "    <tr>\n",
       "      <th>0</th>\n",
       "      <td>The Office (U.S.)</td>\n",
       "      <td>9. Sezon</td>\n",
       "      <td>Finale (Bölüm 23)</td>\n",
       "      <td>TV Show</td>\n",
       "      <td>2020-12-23 14:21:18-08:00</td>\n",
       "      <td>0 days 00:50:34</td>\n",
       "      <td>2020</td>\n",
       "      <td>Dec</td>\n",
       "      <td>23</td>\n",
       "      <td>Wednesday</td>\n",
       "    </tr>\n",
       "    <tr>\n",
       "      <th>1</th>\n",
       "      <td>The Office (U.S.)</td>\n",
       "      <td>9. Sezon</td>\n",
       "      <td>A.A.R.M (Bölüm 22)</td>\n",
       "      <td>TV Show</td>\n",
       "      <td>2020-12-23 13:38:35-08:00</td>\n",
       "      <td>0 days 00:42:41</td>\n",
       "      <td>2020</td>\n",
       "      <td>Dec</td>\n",
       "      <td>23</td>\n",
       "      <td>Wednesday</td>\n",
       "    </tr>\n",
       "    <tr>\n",
       "      <th>2</th>\n",
       "      <td>The Office (U.S.)</td>\n",
       "      <td>9. Sezon</td>\n",
       "      <td>Livin' the Dream (Bölüm 21)</td>\n",
       "      <td>TV Show</td>\n",
       "      <td>2020-12-23 12:59:01-08:00</td>\n",
       "      <td>0 days 00:39:27</td>\n",
       "      <td>2020</td>\n",
       "      <td>Dec</td>\n",
       "      <td>23</td>\n",
       "      <td>Wednesday</td>\n",
       "    </tr>\n",
       "    <tr>\n",
       "      <th>3</th>\n",
       "      <td>The Office (U.S.)</td>\n",
       "      <td>9. Sezon</td>\n",
       "      <td>New Guys (Bölüm 1)</td>\n",
       "      <td>TV Show</td>\n",
       "      <td>2020-12-23 12:50:48-08:00</td>\n",
       "      <td>0 days 00:06:48</td>\n",
       "      <td>2020</td>\n",
       "      <td>Dec</td>\n",
       "      <td>23</td>\n",
       "      <td>Wednesday</td>\n",
       "    </tr>\n",
       "    <tr>\n",
       "      <th>4</th>\n",
       "      <td>The Office (U.S.)</td>\n",
       "      <td>8. Sezon</td>\n",
       "      <td>Fundraiser (Bölüm 22)</td>\n",
       "      <td>TV Show</td>\n",
       "      <td>2020-12-23 12:43:24-08:00</td>\n",
       "      <td>0 days 00:06:59</td>\n",
       "      <td>2020</td>\n",
       "      <td>Dec</td>\n",
       "      <td>23</td>\n",
       "      <td>Wednesday</td>\n",
       "    </tr>\n",
       "  </tbody>\n",
       "</table>\n",
       "</div>"
      ],
      "text/plain": [
       "                Show     Season                       Episode     Type  \\\n",
       "0  The Office (U.S.)   9. Sezon             Finale (Bölüm 23)  TV Show   \n",
       "1  The Office (U.S.)   9. Sezon            A.A.R.M (Bölüm 22)  TV Show   \n",
       "2  The Office (U.S.)   9. Sezon   Livin' the Dream (Bölüm 21)  TV Show   \n",
       "3  The Office (U.S.)   9. Sezon            New Guys (Bölüm 1)  TV Show   \n",
       "4  The Office (U.S.)   8. Sezon         Fundraiser (Bölüm 22)  TV Show   \n",
       "\n",
       "                 Start Time        Duration  Year Month  Day Day of the Week  \n",
       "0 2020-12-23 14:21:18-08:00 0 days 00:50:34  2020   Dec   23       Wednesday  \n",
       "1 2020-12-23 13:38:35-08:00 0 days 00:42:41  2020   Dec   23       Wednesday  \n",
       "2 2020-12-23 12:59:01-08:00 0 days 00:39:27  2020   Dec   23       Wednesday  \n",
       "3 2020-12-23 12:50:48-08:00 0 days 00:06:48  2020   Dec   23       Wednesday  \n",
       "4 2020-12-23 12:43:24-08:00 0 days 00:06:59  2020   Dec   23       Wednesday  "
      ]
     },
     "execution_count": 19,
     "metadata": {},
     "output_type": "execute_result"
    }
   ],
   "source": [
    "df_tvshow = df.loc[df['Type'] == 'TV Show']\n",
    "df_tvshow.index = pd.RangeIndex(len(df_tvshow.index)) \n",
    "df_tvshow.head()"
   ]
  },
  {
   "cell_type": "code",
   "execution_count": 20,
   "metadata": {},
   "outputs": [
    {
     "data": {
      "text/html": [
       "<div>\n",
       "<style scoped>\n",
       "    .dataframe tbody tr th:only-of-type {\n",
       "        vertical-align: middle;\n",
       "    }\n",
       "\n",
       "    .dataframe tbody tr th {\n",
       "        vertical-align: top;\n",
       "    }\n",
       "\n",
       "    .dataframe thead th {\n",
       "        text-align: right;\n",
       "    }\n",
       "</style>\n",
       "<table border=\"1\" class=\"dataframe\">\n",
       "  <thead>\n",
       "    <tr style=\"text-align: right;\">\n",
       "      <th></th>\n",
       "      <th>Show</th>\n",
       "      <th>Season</th>\n",
       "      <th>Episode</th>\n",
       "      <th>Type</th>\n",
       "      <th>Start Time</th>\n",
       "      <th>Duration</th>\n",
       "      <th>Year</th>\n",
       "      <th>Month</th>\n",
       "      <th>Day</th>\n",
       "      <th>Day of the Week</th>\n",
       "    </tr>\n",
       "  </thead>\n",
       "  <tbody>\n",
       "    <tr>\n",
       "      <th>0</th>\n",
       "      <td>Köstebek</td>\n",
       "      <td>None</td>\n",
       "      <td>None</td>\n",
       "      <td>Movie</td>\n",
       "      <td>2021-01-07 22:10:16-08:00</td>\n",
       "      <td>0 days 01:01:03</td>\n",
       "      <td>2021</td>\n",
       "      <td>Jan</td>\n",
       "      <td>7</td>\n",
       "      <td>Thursday</td>\n",
       "    </tr>\n",
       "    <tr>\n",
       "      <th>1</th>\n",
       "      <td>Köstebek</td>\n",
       "      <td>None</td>\n",
       "      <td>None</td>\n",
       "      <td>Movie</td>\n",
       "      <td>2021-01-03 11:12:49-08:00</td>\n",
       "      <td>0 days 00:54:03</td>\n",
       "      <td>2021</td>\n",
       "      <td>Jan</td>\n",
       "      <td>3</td>\n",
       "      <td>Sunday</td>\n",
       "    </tr>\n",
       "    <tr>\n",
       "      <th>2</th>\n",
       "      <td>Kayıp Şeylerin Bakım Kılavuzu</td>\n",
       "      <td>None</td>\n",
       "      <td>None</td>\n",
       "      <td>Movie</td>\n",
       "      <td>2020-12-28 16:23:08-08:00</td>\n",
       "      <td>0 days 01:27:23</td>\n",
       "      <td>2020</td>\n",
       "      <td>Dec</td>\n",
       "      <td>28</td>\n",
       "      <td>Monday</td>\n",
       "    </tr>\n",
       "    <tr>\n",
       "      <th>3</th>\n",
       "      <td>İri Kıyım</td>\n",
       "      <td>Son İnfazcı</td>\n",
       "      <td>None</td>\n",
       "      <td>Movie</td>\n",
       "      <td>2020-12-28 12:23:35-08:00</td>\n",
       "      <td>0 days 00:07:32</td>\n",
       "      <td>2020</td>\n",
       "      <td>Dec</td>\n",
       "      <td>28</td>\n",
       "      <td>Monday</td>\n",
       "    </tr>\n",
       "    <tr>\n",
       "      <th>4</th>\n",
       "      <td>Between Two Ferns</td>\n",
       "      <td>The Movie</td>\n",
       "      <td>None</td>\n",
       "      <td>Movie</td>\n",
       "      <td>2020-12-28 12:12:13-08:00</td>\n",
       "      <td>0 days 00:09:09</td>\n",
       "      <td>2020</td>\n",
       "      <td>Dec</td>\n",
       "      <td>28</td>\n",
       "      <td>Monday</td>\n",
       "    </tr>\n",
       "  </tbody>\n",
       "</table>\n",
       "</div>"
      ],
      "text/plain": [
       "                            Show        Season Episode   Type  \\\n",
       "0                       Köstebek          None    None  Movie   \n",
       "1                       Köstebek          None    None  Movie   \n",
       "2  Kayıp Şeylerin Bakım Kılavuzu          None    None  Movie   \n",
       "3                      İri Kıyım   Son İnfazcı    None  Movie   \n",
       "4              Between Two Ferns     The Movie    None  Movie   \n",
       "\n",
       "                 Start Time        Duration  Year Month  Day Day of the Week  \n",
       "0 2021-01-07 22:10:16-08:00 0 days 01:01:03  2021   Jan    7        Thursday  \n",
       "1 2021-01-03 11:12:49-08:00 0 days 00:54:03  2021   Jan    3          Sunday  \n",
       "2 2020-12-28 16:23:08-08:00 0 days 01:27:23  2020   Dec   28          Monday  \n",
       "3 2020-12-28 12:23:35-08:00 0 days 00:07:32  2020   Dec   28          Monday  \n",
       "4 2020-12-28 12:12:13-08:00 0 days 00:09:09  2020   Dec   28          Monday  "
      ]
     },
     "execution_count": 20,
     "metadata": {},
     "output_type": "execute_result"
    }
   ],
   "source": [
    "df_movie = df.loc[df['Type'] == 'Movie']\n",
    "df_movie.index = pd.RangeIndex(len(df_movie.index)) \n",
    "df_movie.head()"
   ]
  },
  {
   "cell_type": "markdown",
   "metadata": {},
   "source": [
    "Looks good! Now, let's find out total watch time for each show."
   ]
  },
  {
   "cell_type": "code",
   "execution_count": 21,
   "metadata": {},
   "outputs": [
    {
     "data": {
      "text/plain": [
       "Show\n",
       "The Office (U.S.)    9 days 10:28:33\n",
       "Longmire             4 days 10:54:52\n",
       "Mad Men              3 days 02:25:08\n",
       "Person of Interest   2 days 23:23:22\n",
       "Dexter               1 days 23:15:25\n",
       "Breaking Bad         1 days 13:18:01\n",
       "Avatar               1 days 09:53:05\n",
       "Narcos               0 days 18:59:27\n",
       "The Queen's Gambit   0 days 12:10:44\n",
       "After Life           0 days 11:45:05\n",
       "Name: Duration, dtype: timedelta64[ns]"
      ]
     },
     "execution_count": 21,
     "metadata": {},
     "output_type": "execute_result"
    }
   ],
   "source": [
    "times_each_show = df_tvshow.groupby('Show').Duration.sum().sort_values(ascending = False)[:10]\n",
    "times_each_show"
   ]
  },
  {
   "cell_type": "markdown",
   "metadata": {},
   "source": [
    "times_each_show variable is timedelta datatype. To find out in hours, we convert it with astype() function with timedelta[h] argument. "
   ]
  },
  {
   "cell_type": "code",
   "execution_count": 22,
   "metadata": {},
   "outputs": [
    {
     "data": {
      "text/plain": [
       "Show\n",
       "The Office (U.S.)     226.0\n",
       "Longmire              106.0\n",
       "Mad Men                74.0\n",
       "Person of Interest     71.0\n",
       "Dexter                 47.0\n",
       "Breaking Bad           37.0\n",
       "Avatar                 33.0\n",
       "Narcos                 18.0\n",
       "The Queen's Gambit     12.0\n",
       "After Life             11.0\n",
       "Name: Duration, dtype: float64"
      ]
     },
     "execution_count": 22,
     "metadata": {},
     "output_type": "execute_result"
    }
   ],
   "source": [
    "show_hour = times_each_show.astype('timedelta64[h]')\n",
    "show_hour"
   ]
  },
  {
   "cell_type": "markdown",
   "metadata": {},
   "source": [
    "Pointing out here that just simply sorting movie or show with sort_values() and value_counts() function will not give us desired outcome. We have to sort \"Show\" column by total duration of each movie or show. Therefore, below approach applied. "
   ]
  },
  {
   "cell_type": "code",
   "execution_count": 23,
   "metadata": {},
   "outputs": [
    {
     "data": {
      "text/plain": [
       "['The Office (U.S.)',\n",
       " 'Longmire',\n",
       " 'Mad Men',\n",
       " 'Person of Interest',\n",
       " 'Dexter',\n",
       " 'Breaking Bad',\n",
       " 'Avatar',\n",
       " 'Narcos',\n",
       " \"The Queen's Gambit\",\n",
       " 'After Life']"
      ]
     },
     "execution_count": 23,
     "metadata": {},
     "output_type": "execute_result"
    }
   ],
   "source": [
    "df_show_grouped = df_tvshow.groupby(['Show'])['Duration'].sum().reset_index(name='Total Time').sort_values(['Total Time'], ascending=False)\n",
    "xaxis_show = df_show_grouped['Show'][:10].tolist() # getting first ten rows as list instead of pd.dataframe\n",
    "xaxis_show"
   ]
  },
  {
   "cell_type": "code",
   "execution_count": 24,
   "metadata": {},
   "outputs": [
    {
     "data": {
      "image/png": "[encoded data removed]",
      "text/plain": [
       "<Figure size 864x576 with 1 Axes>"
      ]
     },
     "metadata": {
      "needs_background": "light"
     },
     "output_type": "display_data"
    }
   ],
   "source": [
    "fig = plt.figure(figsize=(12,8))\n",
    "plt.subplot()\n",
    "ax = sns.barplot(x = xaxis_show, \n",
    "                 y = show_hour,\n",
    "                 palette=\"gnuplot\")\n",
    "for i, val in enumerate(show_hour):\n",
    "    plt.text(i, val, int(val), horizontalalignment='center', verticalalignment='bottom', fontdict={'fontweight':500, 'size':12})\n",
    "\n",
    "plt.title(\"Ten Most Watched Show by Hour\", fontsize=22)\n",
    "plt.xlabel(\"Show Name\", fontsize=18)\n",
    "plt.ylabel(\"Hours\", fontsize=18)\n",
    "plt.style.use('fivethirtyeight')\n",
    "plt.box(False)\n",
    "loc, labels = plt.xticks()\n",
    "ax.set_xticklabels(labels, rotation=45)\n",
    "plt.savefig('Ten_most_watched_shows.png', dpi=300, bbox_inches='tight')\n",
    "plt.show()"
   ]
  },
  {
   "cell_type": "code",
   "execution_count": 25,
   "metadata": {},
   "outputs": [],
   "source": [
    "# Preparing the data for x axis\n",
    "df_movie_grouped = df_movie.groupby(['Show'])['Duration'].sum().reset_index(name='Total Time').sort_values(['Total Time'], ascending=False)\n",
    "xaxis_movie = df_movie_grouped['Show'][:10].tolist() # getting list outcome instead of pd.dataframe"
   ]
  },
  {
   "cell_type": "code",
   "execution_count": 26,
   "metadata": {},
   "outputs": [],
   "source": [
    "# Preparing the data for y axis\n",
    "times_each_movie = df_movie.groupby('Show').Duration.sum().sort_values(ascending = False)[:10]\n",
    "movie_hour = times_each_movie.astype('timedelta64[h]')"
   ]
  },
  {
   "cell_type": "code",
   "execution_count": 27,
   "metadata": {},
   "outputs": [
    {
     "data": {
      "image/png": "[encoded data removed]",
      "text/plain": [
       "<Figure size 864x576 with 1 Axes>"
      ]
     },
     "metadata": {},
     "output_type": "display_data"
    }
   ],
   "source": [
    "fig = plt.figure(figsize=(12,8))\n",
    "plt.subplot()\n",
    "ax = sns.barplot(x = xaxis_movie, \n",
    "                 y = movie_hour,\n",
    "                 palette=\"gnuplot\")\n",
    "for i, val in enumerate(movie_hour):\n",
    "    plt.text(i, val, int(val), horizontalalignment='center', verticalalignment='bottom', fontdict={'fontweight':500, 'size':12})\n",
    "\n",
    "plt.title(\"Ten Most Watched Movies by Hour\", fontsize=22)\n",
    "plt.xlabel(\"Movie Name\", fontsize=18)\n",
    "plt.ylabel(\"Hours\", fontsize=18)\n",
    "plt.style.use('fivethirtyeight')\n",
    "plt.box(False)\n",
    "loc, labels = plt.xticks()\n",
    "ax.set_xticklabels(labels, rotation=45)\n",
    "plt.savefig('Ten_most_watched_movies.png', dpi=300, bbox_inches='tight')\n",
    "plt.show()"
   ]
  },
  {
   "cell_type": "code",
   "execution_count": 28,
   "metadata": {},
   "outputs": [
    {
     "data": {
      "image/png": "[encoded data removed]",
      "text/plain": [
       "<Figure size 864x576 with 1 Axes>"
      ]
     },
     "metadata": {},
     "output_type": "display_data"
    }
   ],
   "source": [
    "# Finding the freguency based on show type\n",
    "frequency = df.groupby('Type')['Day of the Week'].value_counts().sort_values(ascending=False).reset_index(name='Count')\n",
    "# Plotting\n",
    "fig = plt.figure(figsize=(12,8))\n",
    "ax = sns.barplot(x = frequency[\"Day of the Week\"], \n",
    "                 y = frequency[\"Count\"], \n",
    "                 hue = frequency[\"Type\"], \n",
    "                 palette = \"gnuplot\",\n",
    "                 alpha = 0.7)\n",
    "# Decorizing\n",
    "plt.title(\"Movie and TV Show Preference\", fontsize=22)\n",
    "plt.xlabel(\"Day of the Week\", fontsize=18)\n",
    "plt.ylabel(\"Frequency\", fontsize=18)\n",
    "plt.style.use('fivethirtyeight')\n",
    "plt.box(False)\n",
    "plt.savefig('Movie_and_TV_Show_Preference.png', dpi=300, bbox_inches='tight')\n",
    "plt.show()"
   ]
  },
  {
   "cell_type": "markdown",
   "metadata": {},
   "source": [
    "We will show monthly usage with lineplot. First, let's get the 2020 other years won't cut it. it will give duplicate months"
   ]
  },
  {
   "cell_type": "code",
   "execution_count": 29,
   "metadata": {},
   "outputs": [
    {
     "data": {
      "text/html": [
       "<div>\n",
       "<style scoped>\n",
       "    .dataframe tbody tr th:only-of-type {\n",
       "        vertical-align: middle;\n",
       "    }\n",
       "\n",
       "    .dataframe tbody tr th {\n",
       "        vertical-align: top;\n",
       "    }\n",
       "\n",
       "    .dataframe thead th {\n",
       "        text-align: right;\n",
       "    }\n",
       "</style>\n",
       "<table border=\"1\" class=\"dataframe\">\n",
       "  <thead>\n",
       "    <tr style=\"text-align: right;\">\n",
       "      <th></th>\n",
       "      <th>index</th>\n",
       "      <th>Total</th>\n",
       "    </tr>\n",
       "  </thead>\n",
       "  <tbody>\n",
       "    <tr>\n",
       "      <th>0</th>\n",
       "      <td>TV Show</td>\n",
       "      <td>1947</td>\n",
       "    </tr>\n",
       "    <tr>\n",
       "      <th>1</th>\n",
       "      <td>Movie</td>\n",
       "      <td>494</td>\n",
       "    </tr>\n",
       "  </tbody>\n",
       "</table>\n",
       "</div>"
      ],
      "text/plain": [
       "     index  Total\n",
       "0  TV Show   1947\n",
       "1    Movie    494"
      ]
     },
     "execution_count": 29,
     "metadata": {},
     "output_type": "execute_result"
    }
   ],
   "source": [
    "df_type = df['Type'].value_counts().sort_values(ascending=False).reset_index(name='Total')\n",
    "df_type"
   ]
  },
  {
   "cell_type": "code",
   "execution_count": 30,
   "metadata": {},
   "outputs": [
    {
     "data": {
      "image/png": "[encoded data removed]",
      "text/plain": [
       "<Figure size 864x576 with 1 Axes>"
      ]
     },
     "metadata": {},
     "output_type": "display_data"
    }
   ],
   "source": [
    "colors_list = ['gold', 'lightskyblue']\n",
    "explode_list = [0, 0.1] # explode the second slice\n",
    "\n",
    "df_type['Total'].plot(kind='pie',\n",
    "                      figsize=(12, 8),\n",
    "                      autopct='%1.1f%%', \n",
    "                      startangle=90, \n",
    "                      shadow=True, \n",
    "                      labels=None, \n",
    "                      pctdistance=1.12, \n",
    "                      colors=colors_list, \n",
    "                      explode=explode_list, \n",
    "                      textprops={'fontsize': 14})\n",
    "\n",
    "plt.title('Movie vs TV Show Comparison', fontsize=22)\n",
    "plt.ylabel('')\n",
    "plt.axis('equal')\n",
    "plt.legend(labels=df_type['index'], loc='upper right', prop={'size': 12})\n",
    "plt.style.use('fivethirtyeight')\n",
    "plt.box(False)\n",
    "plt.savefig('Movie_vs_TV_Show_Comparison.png', dpi=300, bbox_inches='tight')\n",
    "plt.show()"
   ]
  },
  {
   "cell_type": "code",
   "execution_count": 31,
   "metadata": {},
   "outputs": [],
   "source": [
    "df_2020 = df.loc[df['Year'] == 2020]"
   ]
  },
  {
   "cell_type": "code",
   "execution_count": 32,
   "metadata": {},
   "outputs": [
    {
     "data": {
      "image/png": "[encoded data removed]",
      "text/plain": [
       "<Figure size 864x432 with 1 Axes>"
      ]
     },
     "metadata": {},
     "output_type": "display_data"
    }
   ],
   "source": [
    "# Getting data ready for x and y axis\n",
    "xaxis_monthly = df_2020['Month'].reindex(pd.to_datetime(df_2020['Start Time']).dt.month.sort_values().index).unique() # sorting months\n",
    "yaxis_monthly = df_2020['Month'].reindex(pd.to_datetime(df_2020['Start Time']).dt.month.sort_values().index).value_counts(sort = False)\n",
    "\n",
    "# Plotting\n",
    "fig = plt.figure(figsize=(12,6))\n",
    "ax = sns.lineplot(x = xaxis_monthly, \n",
    "                  y = yaxis_monthly,\n",
    "                  linewidth = 1,\n",
    "                  color = 'navy')\n",
    "# Decorizing\n",
    "plt.style.use('fivethirtyeight')\n",
    "plt.box(False)\n",
    "plt.title(\"Monthly Viewing Activity in 2020\", fontsize=22)\n",
    "plt.xlabel(\"Month\", fontsize=18)\n",
    "plt.ylabel(\"Frequency\", fontsize=18)\n",
    "plt.savefig('Monthly_Viewing_Activity_in_2020_line.png', dpi=300, bbox_inches='tight')\n",
    "plt.show()"
   ]
  },
  {
   "cell_type": "code",
   "execution_count": 33,
   "metadata": {},
   "outputs": [
    {
     "data": {
      "image/png": "[encoded data removed]",
      "text/plain": [
       "<Figure size 864x576 with 1 Axes>"
      ]
     },
     "metadata": {},
     "output_type": "display_data"
    }
   ],
   "source": [
    "# Getting data ready for x and y axis\n",
    "xaxis_monthly = df_2020['Month'].reindex(pd.to_datetime(df_2020['Start Time']).dt.month.sort_values().index).unique() # sorting months\n",
    "yaxis_monthly = df_2020['Month'].reindex(pd.to_datetime(df_2020['Start Time']).dt.month.sort_values().index).value_counts(sort = False)\n",
    "\n",
    "# Plotting\n",
    "fig = plt.figure(figsize=(12,8))\n",
    "ax = sns.barplot(x = xaxis_monthly, \n",
    "                 y = yaxis_monthly, \n",
    "                 palette=\"gnuplot\")\n",
    "# Decorizing\n",
    "plt.style.use('fivethirtyeight')\n",
    "plt.box(False)\n",
    "plt.title(\"Monthly Viewing Activity in 2020\", fontsize=22)\n",
    "plt.xlabel(\"Month\", fontsize=18)\n",
    "plt.ylabel(\"Frequency\", fontsize=18)\n",
    "plt.savefig('Monthly_Viewing_Activity_in_2020_bar.png', dpi=300, bbox_inches='tight')\n",
    "plt.show()"
   ]
  }
 ],
 "metadata": {
  "kernelspec": {
   "display_name": "Python 3",
   "language": "python",
   "name": "python3"
  },
  "language_info": {
   "codemirror_mode": {
    "name": "ipython",
    "version": 3
   },
   "file_extension": ".py",
   "mimetype": "text/x-python",
   "name": "python",
   "nbconvert_exporter": "python",
   "pygments_lexer": "ipython3",
   "version": "3.8.5"
  }
 },
 "nbformat": 4,
 "nbformat_minor": 4
}
